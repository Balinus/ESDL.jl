{
 "cells": [
  {
   "cell_type": "markdown",
   "metadata": {},
   "source": [
    "# Calculating recurrence scores in time series"
   ]
  },
  {
   "cell_type": "code",
   "execution_count": 2,
   "metadata": {
    "collapsed": false
   },
   "outputs": [],
   "source": [
    "using CABLAB\n",
    "using ImageMagick #for inline Map plots"
   ]
  },
  {
   "cell_type": "markdown",
   "metadata": {},
   "source": [
    "We define the path to the datacube, choose some variables and read a geographical region into memory."
   ]
  },
  {
   "cell_type": "code",
   "execution_count": 3,
   "metadata": {
    "collapsed": false
   },
   "outputs": [],
   "source": [
    "c             = Cube(\"/Net/Groups/BGI/scratch/DataCube/v1/brockmann-consult.de/datacube\")\n",
    "vars          = [\"Emission\",\"SoilMoisture\",\"t2m\"];\n",
    "cdata         = getCubeData(c,latitude=(35,65), longitude=(-10,35),variable=vars);"
   ]
  },
  {
   "cell_type": "markdown",
   "metadata": {},
   "source": [
    "Here starts the actual processing step. Note that each function call has the result of the previous call as its argument. The following processing steps are applied:\n",
    "\n",
    "- gap Filling with the mean seasonal cycle\n",
    "- calculating anomalies, i.e. subtract the mean seasonal cycle\n",
    "- normalize the different variables to unit variance\n",
    "- caculate recurrence scores to detect outliers\n",
    "\n",
    "All these processing steps are implemented in the DAT."
   ]
  },
  {
   "cell_type": "code",
   "execution_count": 4,
   "metadata": {
    "collapsed": false
   },
   "outputs": [
    {
     "name": "stdout",
     "output_type": "stream",
     "text": [
      " 16.767042 seconds (16.92 M allocations: 1007.194 MB, 2.23% gc time)\n"
     ]
    }
   ],
   "source": [
    "@time cube_filled     = mapCube(gapFillMSC,cdata);"
   ]
  },
  {
   "cell_type": "code",
   "execution_count": 5,
   "metadata": {
    "collapsed": false
   },
   "outputs": [
    {
     "name": "stdout",
     "output_type": "stream",
     "text": [
      "  5.193918 seconds (6.00 M allocations: 263.949 MB, 4.11% gc time)\n"
     ]
    }
   ],
   "source": [
    "@time cube_anomalies  = mapCube(removeMSC,cube_filled);"
   ]
  },
  {
   "cell_type": "code",
   "execution_count": 6,
   "metadata": {
    "collapsed": false
   },
   "outputs": [
    {
     "name": "stdout",
     "output_type": "stream",
     "text": [
      "  3.595263 seconds (3.14 M allocations: 171.790 MB, 1.32% gc time)\n"
     ]
    }
   ],
   "source": [
    "@time cube_normalized = mapCube(normalize,cube_anomalies);"
   ]
  },
  {
   "cell_type": "code",
   "execution_count": 7,
   "metadata": {
    "collapsed": false
   },
   "outputs": [
    {
     "name": "stdout",
     "output_type": "stream",
     "text": [
      " 51.831484 seconds (47.93 M allocations: 2.023 GB, 0.95% gc time)\n"
     ]
    }
   ],
   "source": [
    "@time scores          = mapCube(recurrences,cube_normalized,0.5,5);"
   ]
  },
  {
   "cell_type": "markdown",
   "metadata": {},
   "source": [
    "Calculating the scores takes a bit long, so we can repeat this after adding a few more processors."
   ]
  },
  {
   "cell_type": "code",
   "execution_count": 8,
   "metadata": {
    "collapsed": false
   },
   "outputs": [],
   "source": [
    "addprocs(5);"
   ]
  },
  {
   "cell_type": "code",
   "execution_count": 10,
   "metadata": {
    "collapsed": false
   },
   "outputs": [],
   "source": [
    "CABLAB.DAT.init_DATworkers()"
   ]
  },
  {
   "cell_type": "code",
   "execution_count": null,
   "metadata": {
    "collapsed": false
   },
   "outputs": [],
   "source": [
    "@time scores          = mapCube(recurrences,cube_normalized,5.0,5);\n",
    "rmprocs(workers());"
   ]
  },
  {
   "cell_type": "markdown",
   "metadata": {},
   "source": [
    "Here follow some interactive time series plots of the different variables, anomalies, and the resulting scores. 3 Extreme events would be detected here. "
   ]
  },
  {
   "cell_type": "code",
   "execution_count": null,
   "metadata": {
    "collapsed": false
   },
   "outputs": [],
   "source": [
    "plotTS(cdata)"
   ]
  },
  {
   "cell_type": "code",
   "execution_count": null,
   "metadata": {
    "collapsed": false
   },
   "outputs": [],
   "source": [
    "plotTS(cube_anomalies)"
   ]
  },
  {
   "cell_type": "code",
   "execution_count": null,
   "metadata": {
    "collapsed": false
   },
   "outputs": [],
   "source": [
    "plotTS(cube_normalized)"
   ]
  },
  {
   "cell_type": "code",
   "execution_count": null,
   "metadata": {
    "collapsed": false
   },
   "outputs": [],
   "source": [
    "plotTS(scores)"
   ]
  },
  {
   "cell_type": "code",
   "execution_count": null,
   "metadata": {
    "collapsed": false
   },
   "outputs": [],
   "source": [
    "plotMAP(scores,dmin=200.f0,dmax=500.f0)"
   ]
  },
  {
   "cell_type": "code",
   "execution_count": null,
   "metadata": {
    "collapsed": true
   },
   "outputs": [],
   "source": []
  }
 ],
 "metadata": {
  "kernelspec": {
   "display_name": "Julia 0.4.0",
   "language": "julia",
   "name": "julia-0.4"
  },
  "language_info": {
   "file_extension": ".jl",
   "mimetype": "application/julia",
   "name": "julia",
   "version": "0.4.0"
  }
 },
 "nbformat": 4,
 "nbformat_minor": 0
}
